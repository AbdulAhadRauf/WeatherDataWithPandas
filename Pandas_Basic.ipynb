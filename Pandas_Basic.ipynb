{
  "nbformat": 4,
  "nbformat_minor": 0,
  "metadata": {
    "colab": {
      "provenance": [],
      "authorship_tag": "ABX9TyNd0CA64wiU0egxuEetly28",
      "include_colab_link": true
    },
    "kernelspec": {
      "name": "python3",
      "display_name": "Python 3"
    },
    "language_info": {
      "name": "python"
    }
  },
  "cells": [
    {
      "cell_type": "markdown",
      "metadata": {
        "id": "view-in-github",
        "colab_type": "text"
      },
      "source": [
        "<a href=\"https://colab.research.google.com/github/AbdulAhadRauf/WeatherDataWithPandas/blob/main/Pandas_Basic.ipynb\" target=\"_parent\"><img src=\"https://colab.research.google.com/assets/colab-badge.svg\" alt=\"Open In Colab\"/></a>"
      ]
    },
    {
      "cell_type": "code",
      "source": [
        "import pandas\n",
        "data = pandas.read_csv(\"/DATA/weather_data.csv\")"
      ],
      "metadata": {
        "id": "3LLte2fRLTsL"
      },
      "execution_count": null,
      "outputs": []
    },
    {
      "cell_type": "markdown",
      "source": [
        "#AVERAGE MANUAL\n"
      ],
      "metadata": {
        "id": "vYkKgV44NrKE"
      }
    },
    {
      "cell_type": "code",
      "source": [
        "list_data = data[\"Temperature\"].to_list()\n",
        "# for i in list_data:\n",
        "#     total += int(i)\n",
        "total1 = sum(list_data)\n",
        "average = total1/len(list_data)\n",
        "print(average)"
      ],
      "metadata": {
        "id": "Nd9U8JAgLTlL",
        "colab": {
          "base_uri": "https://localhost:8080/"
        },
        "outputId": "df5ec3c7-3592-4622-fae3-2d9b0a889641"
      },
      "execution_count": 13,
      "outputs": [
        {
          "output_type": "stream",
          "name": "stdout",
          "text": [
            "19.0\n"
          ]
        }
      ]
    },
    {
      "cell_type": "markdown",
      "source": [
        "#INBUILT METHODS IN PANDAS\n"
      ],
      "metadata": {
        "id": "ye180k53NvcA"
      }
    },
    {
      "cell_type": "code",
      "source": [
        "average = data[\"Temperature\"].mean()\n",
        "median = data[\"Temperature\"].median()\n",
        "mode = data[\"Temperature\"].mode()\n",
        "max = data[\"Temperature\"].max()\n",
        "min = data[\"Temperature\"].min()\n",
        "print(f'{average}\\n{median}\\n{mode}\\n{max}\\n{min}')"
      ],
      "metadata": {
        "colab": {
          "base_uri": "https://localhost:8080/"
        },
        "id": "9cqeNKbJLTcS",
        "outputId": "989d2573-1512-470a-ba4b-f6962701e612"
      },
      "execution_count": null,
      "outputs": [
        {
          "output_type": "stream",
          "name": "stdout",
          "text": [
            "19.0\n",
            "19.0\n",
            "0    18\n",
            "dtype: int64\n",
            "21\n",
            "18\n"
          ]
        }
      ]
    },
    {
      "cell_type": "markdown",
      "source": [
        "#PRINT COLUMNS AND ROWS"
      ],
      "metadata": {
        "id": "2qe-8GI9Nx-4"
      }
    },
    {
      "cell_type": "code",
      "source": [
        "#PRINT COLUMNS \n",
        "print(data.Days,\"\\n\")\n",
        "#PRINT ROWS\n",
        "print(data[data[\"Days\"] == \"Monday\"], \"\\n\")\n",
        "print(data[data.Days==\"Monday\"])"
      ],
      "metadata": {
        "colab": {
          "base_uri": "https://localhost:8080/"
        },
        "id": "OSbvQncjLYWl",
        "outputId": "1aeeecde-bb70-489a-9b45-43ed9e6f163c"
      },
      "execution_count": null,
      "outputs": [
        {
          "output_type": "stream",
          "name": "stdout",
          "text": [
            "0       Monday\n",
            "1      Tuesday\n",
            "2    Wednesday\n",
            "3     Thursday\n",
            "4       Friday\n",
            "5     Saturday\n",
            "6       Sunday\n",
            "Name: Days, dtype: object \n",
            "\n",
            "     Days  Temperature Conditions\n",
            "0  Monday           18      Rainy\n",
            " \n",
            "     Days  Temperature Conditions\n",
            "0  Monday           18      Rainy\n"
          ]
        }
      ]
    },
    {
      "cell_type": "markdown",
      "source": [
        "#PRINT ROW ON MAX TEMP\n"
      ],
      "metadata": {
        "id": "0aksjhfgN1-w"
      }
    },
    {
      "cell_type": "code",
      "source": [
        "print(data[data.Temperature == data.Temperature.max()])"
      ],
      "metadata": {
        "colab": {
          "base_uri": "https://localhost:8080/"
        },
        "id": "IhV8moL2LYTr",
        "outputId": "81aef6c5-c194-4711-b31b-4e6c4c181f0e"
      },
      "execution_count": null,
      "outputs": [
        {
          "output_type": "stream",
          "name": "stdout",
          "text": [
            "       Days  Temperature Conditions\n",
            "5  Saturday           21     Cloudy\n"
          ]
        }
      ]
    },
    {
      "cell_type": "markdown",
      "source": [
        "#PRINT MONDAYS TEMP AND CONVERT IT TO FARENHEIGHT!\n"
      ],
      "metadata": {
        "id": "6QsUy3esN3jp"
      }
    },
    {
      "cell_type": "code",
      "source": [
        "mon = data[data.Days == \"Monday\"]\n",
        "monday_Temp = int(mon.Temperature)\n",
        "f = monday_Temp *(9/5) + 32\n",
        "print(f)"
      ],
      "metadata": {
        "colab": {
          "base_uri": "https://localhost:8080/"
        },
        "id": "muuHT57tLYQw",
        "outputId": "a10ace9d-3bf2-474d-f582-d0dd4c0e5e05"
      },
      "execution_count": null,
      "outputs": [
        {
          "output_type": "stream",
          "name": "stdout",
          "text": [
            "64.4\n"
          ]
        }
      ]
    }
  ]
}